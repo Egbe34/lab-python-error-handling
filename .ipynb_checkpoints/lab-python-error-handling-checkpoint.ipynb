{
 "cells": [
  {
   "cell_type": "markdown",
   "id": "25d7736c-ba17-4aff-b6bb-66eba20fbf4e",
   "metadata": {},
   "source": [
    "# Lab | Error Handling"
   ]
  },
  {
   "cell_type": "markdown",
   "id": "bc99b386-7508-47a0-bcdb-d969deaf6c8b",
   "metadata": {},
   "source": [
    "## Exercise: Error Handling for Managing Customer Orders\n",
    "\n",
    "The implementation of your code for managing customer orders assumes that the user will always enter a valid input. \n",
    "\n",
    "For example, we could modify the `initialize_inventory` function to include error handling.\n",
    "   - If the user enters an invalid quantity (e.g., a negative value or a non-numeric value), display an error message and ask them to re-enter the quantity for that product.\n",
    "   - Use a try-except block to handle the error and continue prompting the user until a valid quantity is entered.\n",
    "\n",
    "```python\n",
    "# Step 1: Define the function for initializing the inventory with error handling\n",
    "def initialize_inventory(products):\n",
    "    inventory = {}\n",
    "    for product in products:\n",
    "        valid_quantity = False\n",
    "        while not valid_quantity:\n",
    "            try:\n",
    "                quantity = int(input(f\"Enter the quantity of {product}s available: \"))\n",
    "                if quantity < 0:\n",
    "                    raise ValueError(\"Invalid quantity! Please enter a non-negative value.\")\n",
    "                valid_quantity = True\n",
    "            except ValueError as error:\n",
    "                print(f\"Error: {error}\")\n",
    "        inventory[product] = quantity\n",
    "    return inventory\n",
    "\n",
    "# Or, in another way:\n",
    "\n",
    "def initialize_inventory(products):\n",
    "    inventory = {}\n",
    "    for product in products:\n",
    "        valid_input = False\n",
    "        while not valid_input:\n",
    "            try:\n",
    "                quantity = int(input(f\"Enter the quantity of {product}s available: \"))\n",
    "                if quantity >= 0:\n",
    "                    inventory[product] = quantity\n",
    "                    valid_input = True\n",
    "                else:\n",
    "                    print(\"Quantity cannot be negative. Please enter a valid quantity.\")\n",
    "            except ValueError:\n",
    "                print(\"Invalid input. Please enter a valid quantity.\")\n",
    "    return inventory\n",
    "```\n",
    "\n",
    "Let's enhance your code by implementing error handling to handle invalid inputs.\n",
    "\n",
    "Follow the steps below to complete the exercise:\n",
    "\n",
    "2. Modify the `calculate_total_price` function to include error handling.\n",
    "   - If the user enters an invalid price (e.g., a negative value or a non-numeric value), display an error message and ask them to re-enter the price for that product.\n",
    "   - Use a try-except block to handle the error and continue prompting the user until a valid price is entered.\n",
    "\n",
    "3. Modify the `get_customer_orders` function to include error handling.\n",
    "   - If the user enters an invalid number of orders (e.g., a negative value or a non-numeric value), display an error message and ask them to re-enter the number of orders.\n",
    "   - If the user enters an invalid product name (e.g., a product name that is not in the inventory), or that doesn't have stock available, display an error message and ask them to re-enter the product name. *Hint: you will need to pass inventory as a parameter*\n",
    "   - Use a try-except block to handle the error and continue prompting the user until a valid product name is entered.\n",
    "\n",
    "4. Test your code by running the program and deliberately entering invalid quantities and product names. Make sure the error handling mechanism works as expected.\n"
   ]
  },
  {
   "cell_type": "code",
   "execution_count": 1,
   "id": "85923501-927f-4b72-b3c8-c83b90d3e9d4",
   "metadata": {},
   "outputs": [],
   "source": [
    "def initialize_inventory(products):\n",
    "    inventory = {}\n",
    "    for product in products:\n",
    "        while True:\n",
    "            try:\n",
    "                quantity = int(input(f\"Enter the quantity of {product}s available: \"))\n",
    "                if quantity < 0:\n",
    "                    raise ValueError(\"Quantity cannot be negative.\")\n",
    "                inventory[product] = quantity\n",
    "                break\n",
    "            except ValueError as e:\n",
    "                print(f\"Error: {e}. Please enter a valid non-negative number.\")\n",
    "    return inventory\n"
   ]
  },
  {
   "cell_type": "code",
   "execution_count": 2,
   "id": "07bd41a7-e419-4a54-94f1-cc929cf79b64",
   "metadata": {},
   "outputs": [],
   "source": [
    "def get_customer_orders(inventory):\n",
    "    orders = []\n",
    "    while True:\n",
    "        try:\n",
    "            num_orders = int(input(\"Enter the number of customer orders: \"))\n",
    "            if num_orders < 0:\n",
    "                raise ValueError(\"Number of orders cannot be negative.\")\n",
    "            break\n",
    "        except ValueError as e:\n",
    "            print(f\"Error: {e}. Please enter a valid non-negative number.\")\n",
    "\n",
    "    for _ in range(num_orders):\n",
    "        while True:\n",
    "            product = input(\"Enter the name of a product that a customer wants to order: \").lower()\n",
    "            if product not in inventory:\n",
    "                print(\"Error: Product not found in inventory. Try again.\")\n",
    "            elif inventory[product] == 0:\n",
    "                print(\"Error: Product is out of stock. Choose another item.\")\n",
    "            else:\n",
    "                orders.append(product)\n",
    "                break\n",
    "    return orders\n"
   ]
  },
  {
   "cell_type": "code",
   "execution_count": 3,
   "id": "b6c067a1-4a8b-4543-ae9b-dce41f2a6abb",
   "metadata": {},
   "outputs": [],
   "source": [
    "def calculate_total_price(orders):\n",
    "    total = 0.0\n",
    "    for product in orders:\n",
    "        while True:\n",
    "            try:\n",
    "                price = float(input(f\"Enter the price of {product}: \"))\n",
    "                if price < 0:\n",
    "                    raise ValueError(\"Price cannot be negative.\")\n",
    "                total += price\n",
    "                break\n",
    "            except ValueError as e:\n",
    "                print(f\"Error: {e}. Please enter a valid non-negative price.\")\n",
    "    return total\n"
   ]
  },
  {
   "cell_type": "code",
   "execution_count": 4,
   "id": "6e33ce6b-dac6-4489-b305-3ec564fd0a1f",
   "metadata": {},
   "outputs": [],
   "source": [
    "def update_inventory(inventory, orders):\n",
    "    for product in orders:\n",
    "        inventory[product] -= 1\n",
    "    # Remove items with 0 stock using comprehension\n",
    "    inventory = {product: qty for product, qty in inventory.items() if qty > 0}\n",
    "    return inventory\n"
   ]
  },
  {
   "cell_type": "code",
   "execution_count": 5,
   "id": "c0597ad3-539a-4bf5-9649-33b429ea7de3",
   "metadata": {},
   "outputs": [],
   "source": [
    "def print_summary(orders, inventory, total_price, original_inventory):\n",
    "    print(\"\\nOrder Statistics:\")\n",
    "    print(f\"Total Products Ordered: {len(orders)}\")\n",
    "    percent_unique = (len(set(orders)) / len(original_inventory)) * 100\n",
    "    print(f\"Percentage of Unique Products Ordered: {percent_unique:.1f}%\")\n",
    "\n",
    "    print(\"\\nUpdated Inventory:\")\n",
    "    for product, qty in inventory.items():\n",
    "        print(f\"{product}: {qty}\")\n",
    "    \n",
    "    print(f\"\\nTotal Price: {total_price:.2f}\")\n"
   ]
  },
  {
   "cell_type": "code",
   "execution_count": null,
   "id": "2536485d-bc70-4cdf-a289-2c1ff2d2211e",
   "metadata": {},
   "outputs": [
    {
     "name": "stdin",
     "output_type": "stream",
     "text": [
      "Enter the quantity of t-shirts available:  8\n",
      "Enter the quantity of mugs available:  6\n",
      "Enter the quantity of hats available:  5\n",
      "Enter the quantity of books available:  3\n",
      "Enter the quantity of keychains available:  2\n",
      "Enter the number of customer orders:  5\n",
      "Enter the name of a product that a customer wants to order:  4\n"
     ]
    },
    {
     "name": "stdout",
     "output_type": "stream",
     "text": [
      "Error: Product not found in inventory. Try again.\n"
     ]
    },
    {
     "name": "stdin",
     "output_type": "stream",
     "text": [
      "Enter the name of a product that a customer wants to order:  hats\n"
     ]
    },
    {
     "name": "stdout",
     "output_type": "stream",
     "text": [
      "Error: Product not found in inventory. Try again.\n"
     ]
    },
    {
     "name": "stdin",
     "output_type": "stream",
     "text": [
      "Enter the name of a product that a customer wants to order:  24\n"
     ]
    },
    {
     "name": "stdout",
     "output_type": "stream",
     "text": [
      "Error: Product not found in inventory. Try again.\n"
     ]
    },
    {
     "name": "stdin",
     "output_type": "stream",
     "text": [
      "Enter the name of a product that a customer wants to order:  mugs\n"
     ]
    },
    {
     "name": "stdout",
     "output_type": "stream",
     "text": [
      "Error: Product not found in inventory. Try again.\n"
     ]
    }
   ],
   "source": [
    "## Run the full program\n",
    "products = ['t-shirt', 'mug', 'hat', 'book', 'keychain']\n",
    "inventory = initialize_inventory(products)\n",
    "original_inventory = inventory.copy()\n",
    "\n",
    "orders = get_customer_orders(inventory)\n",
    "total_price = calculate_total_price(orders)\n",
    "inventory = update_inventory(inventory, orders)\n",
    "print_summary(orders, inventory, total_price, original_inventory)\n"
   ]
  },
  {
   "cell_type": "code",
   "execution_count": null,
   "id": "22dd1811-8492-4bcc-a905-fa3ed617960b",
   "metadata": {},
   "outputs": [],
   "source": []
  }
 ],
 "metadata": {
  "kernelspec": {
   "display_name": "Python 3 (ipykernel)",
   "language": "python",
   "name": "python3"
  },
  "language_info": {
   "codemirror_mode": {
    "name": "ipython",
    "version": 3
   },
   "file_extension": ".py",
   "mimetype": "text/x-python",
   "name": "python",
   "nbconvert_exporter": "python",
   "pygments_lexer": "ipython3",
   "version": "3.13.2"
  }
 },
 "nbformat": 4,
 "nbformat_minor": 5
}
